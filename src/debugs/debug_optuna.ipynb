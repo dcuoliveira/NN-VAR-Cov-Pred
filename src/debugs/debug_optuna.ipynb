{
 "cells": [
  {
   "cell_type": "code",
   "execution_count": 13,
   "metadata": {},
   "outputs": [],
   "source": [
    "import os\n",
    "import pandas as pd\n",
    "import optuna\n",
    "import torch\n",
    "\n",
    "from debug import objective"
   ]
  },
  {
   "cell_type": "code",
   "execution_count": 14,
   "metadata": {},
   "outputs": [
    {
     "name": "stderr",
     "output_type": "stream",
     "text": [
      "\u001b[32m[I 2023-01-28 15:36:34,861]\u001b[0m A new study created in memory with name: no-name-1e27c865-3240-4f71-be88-b3ea53356265\u001b[0m\n",
      "/Users/danieloliveira/Documents/Daniel/codes/nn-var-cov-pred/src/debug.py:88: FutureWarning: suggest_loguniform has been deprecated in v3.0.0. This feature will be removed in v6.0.0. See https://github.com/optuna/optuna/releases/tag/v3.0.0. Use :func:`~optuna.trial.Trial.suggest_float` instead.\n",
      "  return loss.item()\n",
      "/Users/danieloliveira/opt/anaconda3/envs/dcuoliveira/lib/python3.7/site-packages/optuna/trial/_trial.py:689: RuntimeWarning: Inconsistent parameter values for distribution with name \"n_unit\"! This might be a configuration mistake. Optuna allows to call the same distribution with the same name more than once in a trial. When the parameter values are inconsistent optuna only uses the values of the first call and ignores all following. Using these values: {'log': False, 'step': 1, 'low': 10, 'high': 100}\n",
      "  RuntimeWarning,\n",
      "Running backpropagation: 100%|██████████| 100/100 [00:12<00:00,  8.11it/s]\n",
      "\u001b[33m[W 2023-01-28 15:36:50,754]\u001b[0m Trial 0 failed with parameters: {'learning_rate': 1.1372977873967543e-05, 'n_unit': 36, 'optimizer': 'SGD'} because of the following error: The value         loss\n",
      "0   0.293086\n",
      "1   0.293086\n",
      "2   0.293086\n",
      "3   0.293086\n",
      "4   0.293086\n",
      "..       ...\n",
      "95  0.293083\n",
      "96  0.293083\n",
      "97  0.293083\n",
      "98  0.293083\n",
      "99  0.293083\n",
      "\n",
      "[100 rows x 1 columns] could not be cast to float..\u001b[0m\n",
      "\u001b[33m[W 2023-01-28 15:36:50,757]\u001b[0m Trial 0 failed with value (        loss\n",
      "0   0.293086\n",
      "1   0.293086\n",
      "2   0.293086\n",
      "3   0.293086\n",
      "4   0.293086\n",
      "..       ...\n",
      "95  0.293083\n",
      "96  0.293083\n",
      "97  0.293083\n",
      "98  0.293083\n",
      "99  0.293083\n",
      "\n",
      "[100 rows x 1 columns],           true  prediction\n",
      "0    -0.685032   -0.102187\n",
      "1    -0.360095   -0.102187\n",
      "2    -0.220929   -0.102187\n",
      "3    -0.281166   -0.102187\n",
      "4    -0.657709   -0.102187\n",
      "...        ...         ...\n",
      "3995  0.304107   -0.102187\n",
      "3996  0.465703   -0.102187\n",
      "3997 -0.621479   -0.102187\n",
      "3998 -0.514781   -0.102187\n",
      "3999  0.745981   -0.102187\n",
      "\n",
      "[4000 rows x 2 columns]).\u001b[0m\n"
     ]
    },
    {
     "data": {
      "image/png": "[encoded data removed]",
      "text/plain": [
       "<Figure size 640x480 with 1 Axes>"
      ]
     },
     "metadata": {},
     "output_type": "display_data"
    }
   ],
   "source": [
    "target_name = \"betas_dgp\"\n",
    "target_path = os.path.join(os.getcwd(), \"data\", \"inputs\", \"simple_ar\")\n",
    "epochs = 100\n",
    "criterion = torch.nn.MSELoss()\n",
    "\n",
    "data = pd.read_csv(os.path.join(target_path, \"betadgp_corrdgp_data.csv\"))\n",
    "\n",
    "study = optuna.create_study(direction=\"maximize\", sampler=optuna.samplers.TPESampler())\n",
    "study.optimize(lambda trial: objective(trial, data, target_name, epochs, criterion), n_trials=1)\n"
   ]
  },
  {
   "cell_type": "code",
   "execution_count": null,
   "metadata": {},
   "outputs": [],
   "source": []
  }
 ],
 "metadata": {
  "kernelspec": {
   "display_name": "dcuoliveira",
   "language": "python",
   "name": "python3"
  },
  "language_info": {
   "codemirror_mode": {
    "name": "ipython",
    "version": 3
   },
   "file_extension": ".py",
   "mimetype": "text/x-python",
   "name": "python",
   "nbconvert_exporter": "python",
   "pygments_lexer": "ipython3",
   "version": "3.7.7"
  },
  "orig_nbformat": 4,
  "vscode": {
   "interpreter": {
    "hash": "d3a6ba47db0a01e3ea35289e5800710d2d14ce20297ed9930d1267dc8b13b1b8"
   }
  }
 },
 "nbformat": 4,
 "nbformat_minor": 2
}
