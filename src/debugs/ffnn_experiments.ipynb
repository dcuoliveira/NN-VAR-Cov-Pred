{
 "cells": [
  {
   "cell_type": "code",
   "execution_count": null,
   "id": "f4068196-5936-4cfa-81bc-7c4e13e6ab28",
   "metadata": {},
   "outputs": [],
   "source": [
    "import numpy as np\n",
    "import tensorflow as tf\n",
    "from sklearn.model_selection import GridSearchCV\n",
    "from tensorflow import keras\n",
    "from tensorflow.keras.optimizers import SGD\n",
    "from tensorflow.keras.models import Sequential\n",
    "from tensorflow.keras.layers import Dense\n",
    "\n",
    "import pandas as pd"
   ]
  },
  {
   "cell_type": "code",
   "execution_count": null,
   "id": "e07bce69-0272-4f7c-b762-07374a53d52c",
   "metadata": {},
   "outputs": [],
   "source": [
    "def FFNN(input_shape,\n",
    "         n_neurons,\n",
    "         n_hidden,\n",
    "         learning_rate):\n",
    "    \n",
    "    # neural network dynamic architecture\n",
    "    model = Sequential()\n",
    "    model.add(Dense(n_neurons, input_shape=(input_shape,), activation='relu'))\n",
    "    for layer in range(n_hidden):\n",
    "        model.add(Dense(n_neurons, activation=\"relu\")) \n",
    "    model.add(Dense(1, activation='sigmoid'))\n",
    "\n",
    "    # define stochastic gradient descent optimizer\n",
    "    optimizer = SGD(lr=learning_rate)\n",
    "    model.compile(loss='binary_crossentropy', optimizer=optimizer, metrics=['accuracy'])\n",
    "    return model"
   ]
  },
  {
   "cell_type": "code",
   "execution_count": null,
   "id": "7be4864b-c7f1-46ce-bf91-3fdf87f7a7fe",
   "metadata": {},
   "outputs": [],
   "source": [
    "def create_model():\n",
    "    \n",
    "    # create model\n",
    "    model = Sequential()\n",
    "    model.add(Dense(12, input_shape=(8,), activation='relu'))\n",
    "    model.add(Dense(1, activation='sigmoid'))\n",
    "    model.compile(loss='binary_crossentropy', optimizer=\"SGD\", metrics=['accuracy'])\n",
    "\n",
    "    return model"
   ]
  },
  {
   "cell_type": "code",
   "execution_count": null,
   "id": "04b7e352-be19-4499-ab3b-4f6fe64f1796",
   "metadata": {},
   "outputs": [],
   "source": [
    "# fix random seed for reproducibility\n",
    "seed = 7\n",
    "tf.random.set_seed(seed)\n",
    "\n",
    "# load dataset\n",
    "dataset = pd.read_csv(\"diabetes.csv\")\n",
    "\n",
    "# split into input (X) and output (Y) variables\n",
    "X = dataset.loc[:,dataset.columns[0:8]].to_numpy()\n",
    "Y = dataset.loc[:,dataset.columns[8]].to_numpy()"
   ]
  },
  {
   "cell_type": "code",
   "execution_count": null,
   "id": "a0ebcf22-59a4-4959-8018-112531d52a06",
   "metadata": {},
   "outputs": [],
   "source": [
    "# create model\n",
    "model = keras.wrappers.scikit_learn.KerasClassifier(FFNN, verbose=0)\n",
    "\n",
    "# define the grid search parameters\n",
    "param_grid = dict(\n",
    "    \n",
    "    batch_size=[10, 20, 40, 60, 80, 100],\n",
    "    epochs=[10, 50, 100],\n",
    "    input_shape=[X.shape[1]],\n",
    "    n_hidden=range(1, 5+1),\n",
    "    n_neurons=[10],\n",
    "    learning_rate=[0.001, 0.01, 0.1, 0.2, 0.3]\n",
    "                 \n",
    ")\n",
    "grid = GridSearchCV(estimator=model,\n",
    "                    param_grid=param_grid,\n",
    "                    n_jobs=-1,\n",
    "                    cv=3)\n",
    "grid_result = grid.fit(X, Y)\n",
    "\n",
    "print(\"Best: %f using %s\" % (grid_result.best_score_, grid_result.best_params_))"
   ]
  },
  {
   "cell_type": "code",
   "execution_count": 9,
   "id": "0f8750ad-ef45-4977-bd92-b74ff0939f76",
   "metadata": {},
   "outputs": [
    {
     "name": "stdout",
     "output_type": "stream",
     "text": [
      "0.640625 (0.033299) with: {'batch_size': 10, 'epochs': 10, 'input_shape': 8, 'n_neurons': 10}\n",
      "0.671875 (0.031894) with: {'batch_size': 10, 'epochs': 50, 'input_shape': 8, 'n_neurons': 10}\n",
      "0.704427 (0.010253) with: {'batch_size': 10, 'epochs': 100, 'input_shape': 8, 'n_neurons': 10}\n",
      "0.575521 (0.079566) with: {'batch_size': 20, 'epochs': 10, 'input_shape': 8, 'n_neurons': 10}\n",
      "0.640625 (0.025315) with: {'batch_size': 20, 'epochs': 50, 'input_shape': 8, 'n_neurons': 10}\n",
      "0.684896 (0.035132) with: {'batch_size': 20, 'epochs': 100, 'input_shape': 8, 'n_neurons': 10}\n",
      "0.553385 (0.046256) with: {'batch_size': 40, 'epochs': 10, 'input_shape': 8, 'n_neurons': 10}\n",
      "0.654948 (0.032734) with: {'batch_size': 40, 'epochs': 50, 'input_shape': 8, 'n_neurons': 10}\n",
      "0.651042 (0.008027) with: {'batch_size': 40, 'epochs': 100, 'input_shape': 8, 'n_neurons': 10}\n",
      "0.554688 (0.054220) with: {'batch_size': 60, 'epochs': 10, 'input_shape': 8, 'n_neurons': 10}\n",
      "0.626302 (0.020505) with: {'batch_size': 60, 'epochs': 50, 'input_shape': 8, 'n_neurons': 10}\n",
      "0.673177 (0.023939) with: {'batch_size': 60, 'epochs': 100, 'input_shape': 8, 'n_neurons': 10}\n",
      "0.608073 (0.053970) with: {'batch_size': 80, 'epochs': 10, 'input_shape': 8, 'n_neurons': 10}\n",
      "0.638021 (0.043303) with: {'batch_size': 80, 'epochs': 50, 'input_shape': 8, 'n_neurons': 10}\n",
      "0.643229 (0.035277) with: {'batch_size': 80, 'epochs': 100, 'input_shape': 8, 'n_neurons': 10}\n",
      "0.528646 (0.056367) with: {'batch_size': 100, 'epochs': 10, 'input_shape': 8, 'n_neurons': 10}\n",
      "0.604167 (0.027126) with: {'batch_size': 100, 'epochs': 50, 'input_shape': 8, 'n_neurons': 10}\n",
      "0.640625 (0.019918) with: {'batch_size': 100, 'epochs': 100, 'input_shape': 8, 'n_neurons': 10}\n"
     ]
    }
   ],
   "source": [
    "# summarize results\n",
    "means = grid_result.cv_results_['mean_test_score']\n",
    "stds = grid_result.cv_results_['std_test_score']\n",
    "params = grid_result.cv_results_['params']\n",
    "\n",
    "for mean, stdev, param in zip(means, stds, params):\n",
    "    print(\"%f (%f) with: %r\" % (mean, stdev, param))"
   ]
  },
  {
   "cell_type": "code",
   "execution_count": null,
   "id": "8c38c8b8-99a4-4519-9836-96072846bc56",
   "metadata": {},
   "outputs": [],
   "source": []
  }
 ],
 "metadata": {
  "kernelspec": {
   "display_name": "Python 3",
   "language": "python",
   "name": "python3"
  },
  "language_info": {
   "codemirror_mode": {
    "name": "ipython",
    "version": 3
   },
   "file_extension": ".py",
   "mimetype": "text/x-python",
   "name": "python",
   "nbconvert_exporter": "python",
   "pygments_lexer": "ipython3",
   "version": "3.6.10"
  }
 },
 "nbformat": 4,
 "nbformat_minor": 5
}
