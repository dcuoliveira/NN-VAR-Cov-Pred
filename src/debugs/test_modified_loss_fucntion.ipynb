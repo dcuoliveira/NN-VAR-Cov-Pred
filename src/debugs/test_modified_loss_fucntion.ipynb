{
 "cells": [
  {
   "cell_type": "code",
   "execution_count": 17,
   "id": "da320fa6-e5ca-4551-8d6c-8a7d2a2b99e3",
   "metadata": {},
   "outputs": [],
   "source": [
    "import sys\n",
    "import os\n",
    "\n",
    "SOURCE_PATH = os.path.dirname(os.getcwd())\n",
    "sys.path.append(SOURCE_PATH)\n",
    "\n",
    "import pandas as pd\n",
    "import matplotlib.pyplot as plt\n",
    "from tqdm import tqdm\n",
    "import numpy as np\n",
    "from sklearn.metrics import mean_squared_error, mean_absolute_error\n",
    "\n",
    "from utils import Pyutils as pyutils\n",
    "\n",
    "plt.style.use(\"bmh\")\n",
    "plt.rcParams[\"figure.figsize\"] = (15,10)\n",
    "\n",
    "INPUTS_PATH = os.path.join(SOURCE_PATH, \"data\", \"inputs\")\n",
    "OUTPUTS_PATH = os.path.join(SOURCE_PATH, \"data\", \"outputs\")\n",
    "DATASET_NAMES = [\"betadgp_covdgp_data\", \"betadgp_beta2x2_data\", \"betadgp_data\"]\n",
    "TARGET_NAME = \"betas_dgp\"\n",
    "MODEL_TAGS = [\"linear_reg\", \"ffnn\"]"
   ]
  },
  {
   "cell_type": "code",
   "execution_count": 19,
   "id": "37a94442-c53d-46fe-9538-8116d68a6339",
   "metadata": {},
   "outputs": [
    {
     "name": "stderr",
     "output_type": "stream",
     "text": [
      "Append all model results: 100%|██████████| 2/2 [00:21<00:00, 10.58s/it]\n"
     ]
    }
   ],
   "source": [
    "all_data = []\n",
    "model_summary = []\n",
    "idx = 0\n",
    "for model_tag in tqdm(MODEL_TAGS,\n",
    "                      desc=\"Append all model results\"):\n",
    "    \n",
    "    DGPS = os.listdir(os.path.join(OUTPUTS_PATH, model_tag))\n",
    "    for dgp_name in DGPS:\n",
    "        for ds in DATASET_NAMES:\n",
    "            \n",
    "            data = pd.read_csv(os.path.join(OUTPUTS_PATH, model_tag, dgp_name, ds + \"_result.csv\"))\n",
    "            data[\"model\"] = model_tag\n",
    "            data[\"dgp\"] = dgp_name\n",
    "            data[\"dataset\"] = ds\n",
    "            \n",
    "            mse = mean_squared_error(y_true=data[\"y\"],\n",
    "                                     y_pred=data[\"pred\"])\n",
    "            mae = mean_absolute_error(y_true=data[\"y\"],\n",
    "                                      y_pred=data[\"pred\"])\n",
    "\n",
    "            model_summary_tmp = pyutils.load_pkl(path=os.path.join(OUTPUTS_PATH, model_tag, dgp_name, ds + \"_model.pickle\"))\n",
    "            model_summary_tmp[\"model\"] = model_tag\n",
    "            model_summary_tmp[\"dgp\"] = dgp_name\n",
    "            model_summary_tmp[\"number_of_variables\"] = int(model_summary_tmp['dgp'].split(\"_\")[1])\n",
    "            model_summary_tmp[\"dataset\"] = ds\n",
    "            model_summary_tmp[\"mse\"] = mse\n",
    "            model_summary_tmp[\"mae\"] = mae\n",
    "            if model_tag == \"linear_reg\":\n",
    "                model_summary_tmp['coef'] = str(tuple(map(tuple, model_summary_tmp['coef']))[0])\n",
    "            \n",
    "            model_summary.append(pd.DataFrame(model_summary_tmp, index=[idx]))\n",
    "            idx += 1\n",
    "            \n",
    "            all_data.append(data)\n",
    "all_data_df = pd.concat(all_data, axis=0)\n",
    "model_summary_df = pd.concat(model_summary, axis=0)"
   ]
  },
  {
   "cell_type": "code",
   "execution_count": 21,
   "id": "b8609fce-83b5-4353-abff-d92340c004df",
   "metadata": {},
   "outputs": [
    {
     "data": {
      "text/html": [
       "<div>\n",
       "<style scoped>\n",
       "    .dataframe tbody tr th:only-of-type {\n",
       "        vertical-align: middle;\n",
       "    }\n",
       "\n",
       "    .dataframe tbody tr th {\n",
       "        vertical-align: top;\n",
       "    }\n",
       "\n",
       "    .dataframe thead th {\n",
       "        text-align: right;\n",
       "    }\n",
       "</style>\n",
       "<table border=\"1\" class=\"dataframe\">\n",
       "  <thead>\n",
       "    <tr style=\"text-align: right;\">\n",
       "      <th></th>\n",
       "      <th>Var1</th>\n",
       "      <th>Var2</th>\n",
       "      <th>y</th>\n",
       "      <th>pred</th>\n",
       "      <th>model</th>\n",
       "      <th>dgp</th>\n",
       "      <th>dataset</th>\n",
       "    </tr>\n",
       "  </thead>\n",
       "  <tbody>\n",
       "    <tr>\n",
       "      <th>0</th>\n",
       "      <td>1</td>\n",
       "      <td>1</td>\n",
       "      <td>0.573050</td>\n",
       "      <td>0.011875</td>\n",
       "      <td>linear_reg</td>\n",
       "      <td>ar1_150_random</td>\n",
       "      <td>betadgp_covdgp_data</td>\n",
       "    </tr>\n",
       "    <tr>\n",
       "      <th>1</th>\n",
       "      <td>1</td>\n",
       "      <td>2</td>\n",
       "      <td>0.000000</td>\n",
       "      <td>0.003306</td>\n",
       "      <td>linear_reg</td>\n",
       "      <td>ar1_150_random</td>\n",
       "      <td>betadgp_covdgp_data</td>\n",
       "    </tr>\n",
       "    <tr>\n",
       "      <th>2</th>\n",
       "      <td>1</td>\n",
       "      <td>3</td>\n",
       "      <td>0.000000</td>\n",
       "      <td>0.003231</td>\n",
       "      <td>linear_reg</td>\n",
       "      <td>ar1_150_random</td>\n",
       "      <td>betadgp_covdgp_data</td>\n",
       "    </tr>\n",
       "    <tr>\n",
       "      <th>3</th>\n",
       "      <td>1</td>\n",
       "      <td>4</td>\n",
       "      <td>0.000000</td>\n",
       "      <td>0.001429</td>\n",
       "      <td>linear_reg</td>\n",
       "      <td>ar1_150_random</td>\n",
       "      <td>betadgp_covdgp_data</td>\n",
       "    </tr>\n",
       "    <tr>\n",
       "      <th>4</th>\n",
       "      <td>1</td>\n",
       "      <td>5</td>\n",
       "      <td>-0.167291</td>\n",
       "      <td>0.003565</td>\n",
       "      <td>linear_reg</td>\n",
       "      <td>ar1_150_random</td>\n",
       "      <td>betadgp_covdgp_data</td>\n",
       "    </tr>\n",
       "  </tbody>\n",
       "</table>\n",
       "</div>"
      ],
      "text/plain": [
       "   Var1  Var2         y      pred       model             dgp  \\\n",
       "0     1     1  0.573050  0.011875  linear_reg  ar1_150_random   \n",
       "1     1     2  0.000000  0.003306  linear_reg  ar1_150_random   \n",
       "2     1     3  0.000000  0.003231  linear_reg  ar1_150_random   \n",
       "3     1     4  0.000000  0.001429  linear_reg  ar1_150_random   \n",
       "4     1     5 -0.167291  0.003565  linear_reg  ar1_150_random   \n",
       "\n",
       "               dataset  \n",
       "0  betadgp_covdgp_data  \n",
       "1  betadgp_covdgp_data  \n",
       "2  betadgp_covdgp_data  \n",
       "3  betadgp_covdgp_data  \n",
       "4  betadgp_covdgp_data  "
      ]
     },
     "execution_count": 21,
     "metadata": {},
     "output_type": "execute_result"
    }
   ],
   "source": [
    "all_data_df.head()"
   ]
  },
  {
   "cell_type": "code",
   "execution_count": 32,
   "id": "875c5d2a-536a-4eb4-a126-1ebc407d62c0",
   "metadata": {},
   "outputs": [],
   "source": [
    "tmp_data = all_data_df.loc[(all_data_df[\"dgp\"] == \"ar1_150_random\")&\n",
    "                           (all_data_df[\"dataset\"] == \"betadgp_covdgp_data\")&\n",
    "                           (all_data_df[\"model\"] == \"linear_reg\")]\n",
    "tmp_data = tmp_data[[\"y\", \"pred\"]]"
   ]
  },
  {
   "cell_type": "code",
   "execution_count": 34,
   "id": "5992d3a1-57ae-4071-88bc-72fe3263732d",
   "metadata": {},
   "outputs": [
    {
     "data": {
      "text/plain": [
       "<AxesSubplot:xlabel='pred', ylabel='y'>"
      ]
     },
     "execution_count": 34,
     "metadata": {},
     "output_type": "execute_result"
    },
    {
     "data": {
      "image/png": "[encoded data removed]",
      "text/plain": [
       "<Figure size 1080x720 with 1 Axes>"
      ]
     },
     "metadata": {
      "needs_background": "light"
     },
     "output_type": "display_data"
    }
   ],
   "source": [
    "tmp_data.plot.scatter(y=\"y\", x=\"pred\")"
   ]
  },
  {
   "cell_type": "markdown",
   "id": "10b02ee8-d3b6-4ddf-99e6-165ad7c292d8",
   "metadata": {},
   "source": [
    "### Prediction tree\n",
    "\n",
    "> 1) y_pred zero AND y_true zero\n",
    "> 2) y_pred zero BUT y_true not zero\n",
    "> 3) y_pred not zero AND y_true not zero\n",
    "> 4) y_pred not zero BUT y_true zero\n",
    "\n",
    "The errors that we wish to control are 2) and 4), but it seems reasonable to penalize 2) more than 4)."
   ]
  },
  {
   "cell_type": "code",
   "execution_count": 47,
   "id": "8dd4462a-f2ce-4b83-9e26-ddc18a99c261",
   "metadata": {},
   "outputs": [
    {
     "data": {
      "text/plain": [
       "0.004711997630435054"
      ]
     },
     "execution_count": 47,
     "metadata": {},
     "output_type": "execute_result"
    }
   ],
   "source": [
    "y_true = tmp_data[\"y\"]\n",
    "y_pred = tmp_data[\"pred\"]\n",
    "\n",
    "w = 0.1\n",
    "y_pred_of_nonzeros = np.where(y_true == 0,\n",
    "                              y_pred - y_pred,\n",
    "                              y_pred)\n",
    "\n",
    "# non-zero target predictions are penalized less than the average prediction\n",
    "loss = np.mean(np.square(y_true - y_pred_of_nonzeros)) + (np.mean(np.square(y_true - y_pred)) * w)\n",
    "loss"
   ]
  },
  {
   "cell_type": "code",
   "execution_count": 57,
   "id": "79be4dc1-f0b8-490a-a2a8-760218edfb3e",
   "metadata": {},
   "outputs": [],
   "source": [
    "import tensorflow as tf\n",
    "import tensorflow.keras.metrics as kMetrics"
   ]
  },
  {
   "cell_type": "code",
   "execution_count": 60,
   "id": "2e8af295-6206-423b-bdb2-06b0cd1b9cbc",
   "metadata": {},
   "outputs": [
    {
     "data": {
      "text/plain": [
       "<tf.Tensor: id=38, shape=(), dtype=float64, numpy=0.004711997630435055>"
      ]
     },
     "execution_count": 60,
     "metadata": {},
     "output_type": "execute_result"
    }
   ],
   "source": [
    "w = 0.1\n",
    "y_pred_of_nonzeros = tf.where(tf.equal(y_true, 0), y_pred-y_pred, y_pred)\n",
    "tf.reduce_mean(tf.square(y_true - y_pred_of_nonzeros)) + tf.reduce_mean(tf.square(y_true-y_pred)) * w"
   ]
  },
  {
   "cell_type": "code",
   "execution_count": 61,
   "id": "8c641059-77f5-4344-ad9f-3433fa979f05",
   "metadata": {},
   "outputs": [],
   "source": [
    "def weighted_mean_squared_error(y_true,\n",
    "                                y_pred,\n",
    "                                w=0.1):\n",
    "    \n",
    "    y_pred_of_nonzeros = tf.where(tf.equal(y_true, 0), y_pred-y_pred, y_pred)\n",
    "    \n",
    "    # non-zero target predictions are penalized less than the average prediction\n",
    "    return tf.reduce_mean(tf.square(y_true - y_pred_of_nonzeros)) + tf.reduce_mean(tf.square(y_true-y_pred)) * w"
   ]
  },
  {
   "cell_type": "code",
   "execution_count": null,
   "id": "48def9f9-4703-4b84-81f5-e33d667f75af",
   "metadata": {},
   "outputs": [],
   "source": []
  }
 ],
 "metadata": {
  "kernelspec": {
   "display_name": "Python 3",
   "language": "python",
   "name": "python3"
  },
  "language_info": {
   "codemirror_mode": {
    "name": "ipython",
    "version": 3
   },
   "file_extension": ".py",
   "mimetype": "text/x-python",
   "name": "python",
   "nbconvert_exporter": "python",
   "pygments_lexer": "ipython3",
   "version": "3.6.10"
  }
 },
 "nbformat": 4,
 "nbformat_minor": 5
}
