{
 "cells": [
  {
   "cell_type": "code",
   "execution_count": 21,
   "id": "af0b91ae-f8d2-4bd1-b59f-271bd3ad4301",
   "metadata": {},
   "outputs": [],
   "source": [
    "import pandas as pd\n",
    "import os\n",
    "\n",
    "import tensorflow as tf\n",
    "from tensorflow import keras\n",
    "from sklearn.preprocessing import StandardScaler\n",
    "from sklearn.model_selection import train_test_split\n",
    "\n",
    "SOURCE_PATH = os.path.dirname(os.getcwd())"
   ]
  },
  {
   "cell_type": "markdown",
   "id": "39c24959-1a8f-4df1-9c40-5922869e2423",
   "metadata": {},
   "source": [
    "## Load and preprocess data"
   ]
  },
  {
   "cell_type": "code",
   "execution_count": 42,
   "id": "046542fd-74b8-4441-b206-86e54664bc19",
   "metadata": {},
   "outputs": [],
   "source": [
    "data = pd.read_csv(os.path.join(SOURCE_PATH, \"data\", \"inputs\", \"ar1_150_random\", \"betadgp_beta2x2_data.csv\"))\n",
    "y = data[\"betas_dgp\"].to_numpy()\n",
    "X = data[[\"cov_dgp\"]].to_numpy()\n",
    "\n",
    "X_train, X_validation, y_train, y_validation = train_test_split(X, y, train_size=0.7)"
   ]
  },
  {
   "cell_type": "code",
   "execution_count": 43,
   "id": "6f85448f-ff87-44ca-adf8-cda03fa35196",
   "metadata": {},
   "outputs": [
    {
     "data": {
      "text/plain": [
       "(15749, 1)"
      ]
     },
     "execution_count": 43,
     "metadata": {},
     "output_type": "execute_result"
    }
   ],
   "source": [
    "X_train.shape"
   ]
  },
  {
   "cell_type": "code",
   "execution_count": 44,
   "id": "1c16268f-28cd-472b-889d-21e9848d4e5b",
   "metadata": {},
   "outputs": [
    {
     "data": {
      "text/plain": [
       "(6751, 1)"
      ]
     },
     "execution_count": 44,
     "metadata": {},
     "output_type": "execute_result"
    }
   ],
   "source": [
    "X_validation.shape"
   ]
  },
  {
   "cell_type": "code",
   "execution_count": 47,
   "id": "eceea476-0bac-402d-b6c0-4bbfb1f26c89",
   "metadata": {},
   "outputs": [],
   "source": [
    "scaler = StandardScaler()\n",
    "X_train_zscore = scaler.fit_transform(X_train)\n",
    "X_validation_zscore = scaler.transform(X_validation)"
   ]
  },
  {
   "cell_type": "code",
   "execution_count": null,
   "id": "d6993c5b-3790-4586-841f-986e252bb34f",
   "metadata": {},
   "outputs": [],
   "source": []
  }
 ],
 "metadata": {
  "kernelspec": {
   "display_name": "Python 3",
   "language": "python",
   "name": "python3"
  },
  "language_info": {
   "codemirror_mode": {
    "name": "ipython",
    "version": 3
   },
   "file_extension": ".py",
   "mimetype": "text/x-python",
   "name": "python",
   "nbconvert_exporter": "python",
   "pygments_lexer": "ipython3",
   "version": "3.6.13"
  }
 },
 "nbformat": 4,
 "nbformat_minor": 5
}
