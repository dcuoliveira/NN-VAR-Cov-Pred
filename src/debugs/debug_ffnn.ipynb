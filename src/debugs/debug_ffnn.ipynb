{
 "cells": [
  {
   "cell_type": "code",
   "execution_count": 1,
   "id": "af0b91ae-f8d2-4bd1-b59f-271bd3ad4301",
   "metadata": {},
   "outputs": [],
   "source": [
    "import pandas as pd\n",
    "import os\n",
    "import matplotlib.pyplot as plt\n",
    "\n",
    "import tensorflow as tf\n",
    "from tensorflow import keras\n",
    "from sklearn.preprocessing import StandardScaler\n",
    "from sklearn.model_selection import train_test_split\n",
    "\n",
    "plt.style.use(\"bmh\")\n",
    "plt.rcParams[\"figure.figsize\"] = (15,10)"
   ]
  },
  {
   "cell_type": "markdown",
   "id": "39c24959-1a8f-4df1-9c40-5922869e2423",
   "metadata": {},
   "source": [
    "## Load and pre-process data\n",
    "\n",
    "### 1) Global parameters"
   ]
  },
  {
   "cell_type": "code",
   "execution_count": 2,
   "id": "dd15b9d6-c69a-41b4-a5a7-975f1efc8189",
   "metadata": {},
   "outputs": [],
   "source": [
    "SOURCE_PATH = os.path.dirname(os.getcwd())\n",
    "\n",
    "TRAIN_SIZE = 0.7 # size of training data (in %)\n",
    "VALIDATION_SIZE = 0.2\n",
    "N_JOBS = 1  # number of jobs to run in parallel\n",
    "N_SPLITS = 10  # number of splits (k) to be made within the k fold cv\n",
    "N_ITER = 3  # number of parameter settings that are sampled\n",
    "SEED = 2294\n",
    "VERBOSE = True\n",
    "INPUTS_PATH = os.path.join(SOURCE_PATH, \"data\", \"inputs\")\n",
    "OUTPUTS_PATH = os.path.join(SOURCE_PATH, \"data\", \"outputs\")\n",
    "DATASET_NAMES = [\"betadgp_covdgp_data\", \"betadgp_beta2x2_data\", \"betadgp_data\"]\n",
    "TARGET_NAME = \"betas_dgp\"\n",
    "MODEL_TAG = \"FFNN\"\n",
    "STANDARDIZE = True"
   ]
  },
  {
   "cell_type": "markdown",
   "id": "bb54f523-4624-4314-bb39-866f131476bd",
   "metadata": {},
   "source": [
    "### 2) Local parameters"
   ]
  },
  {
   "cell_type": "code",
   "execution_count": 3,
   "id": "cbf109cd-b11f-4650-9b99-4d7cf00985a9",
   "metadata": {},
   "outputs": [],
   "source": [
    "DIR_NAMES = os.listdir(os.path.join(INPUTS_PATH))\n",
    "\n",
    "dgp_name = DIR_NAMES[0]\n",
    "ds = DATASET_NAMES[0] "
   ]
  },
  {
   "cell_type": "code",
   "execution_count": 4,
   "id": "046542fd-74b8-4441-b206-86e54664bc19",
   "metadata": {},
   "outputs": [],
   "source": [
    "data = pd.read_csv(os.path.join(INPUTS_PATH, dgp_name, ds + \".csv\"))\n",
    "y = data[\"betas_dgp\"].to_numpy()\n",
    "X = data[[\"cov_dgp\"]].to_numpy()\n",
    "\n",
    "X_train, X_test, y_train, y_test = train_test_split(X, y, train_size=TRAIN_SIZE)\n",
    "X_train, X_validation, y_train, y_validation = train_test_split(X, y, train_size=(1 - VALIDATION_SIZE))\n",
    "\n",
    "if STANDARDIZE:\n",
    "    scaler = StandardScaler()\n",
    "    X_train_zscore = scaler.fit_transform(X_train)\n",
    "    X_validation_zscore = scaler.transform(X_validation)\n",
    "    X_test_zscore = scaler.transform(X_test)"
   ]
  },
  {
   "cell_type": "code",
   "execution_count": 5,
   "id": "6f85448f-ff87-44ca-adf8-cda03fa35196",
   "metadata": {},
   "outputs": [
    {
     "data": {
      "text/plain": [
       "(18000, 1)"
      ]
     },
     "execution_count": 5,
     "metadata": {},
     "output_type": "execute_result"
    }
   ],
   "source": [
    "X_train.shape"
   ]
  },
  {
   "cell_type": "code",
   "execution_count": 6,
   "id": "1c16268f-28cd-472b-889d-21e9848d4e5b",
   "metadata": {},
   "outputs": [
    {
     "data": {
      "text/plain": [
       "(4500, 1)"
      ]
     },
     "execution_count": 6,
     "metadata": {},
     "output_type": "execute_result"
    }
   ],
   "source": [
    "X_validation.shape"
   ]
  },
  {
   "cell_type": "code",
   "execution_count": 7,
   "id": "cba74e10-1b77-46c5-92b2-040b6a5b5fa5",
   "metadata": {},
   "outputs": [
    {
     "data": {
      "text/html": [
       "<div>\n",
       "<style scoped>\n",
       "    .dataframe tbody tr th:only-of-type {\n",
       "        vertical-align: middle;\n",
       "    }\n",
       "\n",
       "    .dataframe tbody tr th {\n",
       "        vertical-align: top;\n",
       "    }\n",
       "\n",
       "    .dataframe thead th {\n",
       "        text-align: right;\n",
       "    }\n",
       "</style>\n",
       "<table border=\"1\" class=\"dataframe\">\n",
       "  <thead>\n",
       "    <tr style=\"text-align: right;\">\n",
       "      <th></th>\n",
       "      <th>Var1</th>\n",
       "      <th>Var2</th>\n",
       "      <th>betas_dgp</th>\n",
       "      <th>cov_dgp</th>\n",
       "    </tr>\n",
       "  </thead>\n",
       "  <tbody>\n",
       "    <tr>\n",
       "      <th>22495</th>\n",
       "      <td>150</td>\n",
       "      <td>146</td>\n",
       "      <td>0.0</td>\n",
       "      <td>-0.010756</td>\n",
       "    </tr>\n",
       "    <tr>\n",
       "      <th>22496</th>\n",
       "      <td>150</td>\n",
       "      <td>147</td>\n",
       "      <td>0.0</td>\n",
       "      <td>-0.162996</td>\n",
       "    </tr>\n",
       "    <tr>\n",
       "      <th>22497</th>\n",
       "      <td>150</td>\n",
       "      <td>148</td>\n",
       "      <td>0.0</td>\n",
       "      <td>-0.022190</td>\n",
       "    </tr>\n",
       "    <tr>\n",
       "      <th>22498</th>\n",
       "      <td>150</td>\n",
       "      <td>149</td>\n",
       "      <td>0.0</td>\n",
       "      <td>-0.065551</td>\n",
       "    </tr>\n",
       "    <tr>\n",
       "      <th>22499</th>\n",
       "      <td>150</td>\n",
       "      <td>150</td>\n",
       "      <td>0.0</td>\n",
       "      <td>1.000000</td>\n",
       "    </tr>\n",
       "  </tbody>\n",
       "</table>\n",
       "</div>"
      ],
      "text/plain": [
       "       Var1  Var2  betas_dgp   cov_dgp\n",
       "22495   150   146        0.0 -0.010756\n",
       "22496   150   147        0.0 -0.162996\n",
       "22497   150   148        0.0 -0.022190\n",
       "22498   150   149        0.0 -0.065551\n",
       "22499   150   150        0.0  1.000000"
      ]
     },
     "execution_count": 7,
     "metadata": {},
     "output_type": "execute_result"
    }
   ],
   "source": [
    "data.tail()"
   ]
  },
  {
   "cell_type": "code",
   "execution_count": 8,
   "id": "d6993c5b-3790-4586-841f-986e252bb34f",
   "metadata": {},
   "outputs": [
    {
     "data": {
      "text/plain": [
       "array([[<AxesSubplot:title={'center':'betas_dgp'}>]], dtype=object)"
      ]
     },
     "execution_count": 8,
     "metadata": {},
     "output_type": "execute_result"
    },
    {
     "data": {
      "image/png": "[encoded data removed]",
      "text/plain": [
       "<Figure size 1080x720 with 1 Axes>"
      ]
     },
     "metadata": {
      "needs_background": "light"
     },
     "output_type": "display_data"
    }
   ],
   "source": [
    "data[[\"betas_dgp\"]].hist(bins=15)"
   ]
  },
  {
   "cell_type": "code",
   "execution_count": 9,
   "id": "005faffd-1db8-4ec5-bb3d-b27ba1a22408",
   "metadata": {},
   "outputs": [
    {
     "data": {
      "text/plain": [
       "array([[<AxesSubplot:title={'center':'cov_dgp'}>]], dtype=object)"
      ]
     },
     "execution_count": 9,
     "metadata": {},
     "output_type": "execute_result"
    },
    {
     "data": {
      "image/png": "[encoded data removed]",
      "text/plain": [
       "<Figure size 1080x720 with 1 Axes>"
      ]
     },
     "metadata": {
      "needs_background": "light"
     },
     "output_type": "display_data"
    }
   ],
   "source": [
    "data[[\"cov_dgp\"]].hist(bins=15)"
   ]
  },
  {
   "cell_type": "markdown",
   "id": "fca74bf3-ad3d-4932-9903-d4ba6d76226d",
   "metadata": {},
   "source": [
    "## Model\n",
    "\n",
    "### 1) Definition and Estimation\n",
    "\n",
    "We will use the \"LinearRegrssion\" object of the sklearn package to define the linear regression model object. Since this model has no hyperparameters, we go straight to the estimation of the model parameters on the training data."
   ]
  },
  {
   "cell_type": "code",
   "execution_count": 25,
   "id": "46dc263d-5436-4739-8e1f-8206634352d6",
   "metadata": {},
   "outputs": [],
   "source": [
    "# define the FNN model\n",
    "def FFNN(n_hidden,\n",
    "         n_neurons,\n",
    "         input_shape,\n",
    "         activation=\"relu\",\n",
    "         learning_rate=3e-3,\n",
    "         loss=\"mse\"):\n",
    "    \n",
    "    model = keras.models.Sequential()\n",
    "    model.add(keras.layers.InputLayer(input_shape=input_shape))\n",
    "    \n",
    "    # for layer in range(n_hidden):\n",
    "    for layer in range(n_hidden):\n",
    "        model.add(keras.layers.Dense(n_neurons, activation=activation))\n",
    "        model.add(keras.layers.Dense(1))        \n",
    "    model.add(keras.layers.Dense(1))\n",
    "    \n",
    "    optimizer = keras.optimizers.SGD(lr=learning_rate)\n",
    "    model.compile(loss=loss, optimizer=optimizer)\n",
    "    \n",
    "    return model\n",
    "\n",
    "            \n",
    "# transform the FNN model into a sklearn regressor object\n",
    "FFNNReg = keras.wrappers.scikit_learn.KerasRegressor(FFNN)\n",
    "\n",
    "# define wrapper around the FNN regressor\n",
    "class FFNNWrapper():\n",
    "    def __init__(self, model_params=None):\n",
    "        self.model_name = \"ffnn\"\n",
    "        self.search_type = 'random'\n",
    "        self.param_grid = {\"n_hidden\": [0, 1, 2, 3, 4, 5],\n",
    "                           \"n_neurons\": np.arange(1, 100),\n",
    "                           \"activation\": [\"relu\"],\n",
    "                           \"learning_rate\": reciprocal(3e-4, 3e-2),\n",
    "                           \"loss\": [\"mse\"]}\n",
    "        self.ModelClass = FFNNReg\n",
    "        \n",
    "        if model_params is not None:\n",
    "            self.param_grid.update(model_params) "
   ]
  },
  {
   "cell_type": "code",
   "execution_count": 26,
   "id": "93b73eef-b9be-4c48-9a52-6d864f16499c",
   "metadata": {},
   "outputs": [],
   "source": [
    "import numpy as np\n",
    "from scipy.stats import reciprocal\n",
    "from sklearn.metrics import mean_squared_error, make_scorer\n",
    "from sklearn.model_selection import RandomizedSearchCV, KFold, GridSearchCV\n",
    "\n",
    "cv_splits = KFold(n_splits=N_SPLITS)\n",
    "mse_scorer = make_scorer(mean_squared_error)"
   ]
  },
  {
   "cell_type": "code",
   "execution_count": 30,
   "id": "6acbf151-5c59-4a8e-9ff9-63b0ff254ba0",
   "metadata": {},
   "outputs": [],
   "source": [
    "wrapper = FFNNWrapper(model_params={\"input_shape\": [X_train_zscore.shape[1]]})"
   ]
  },
  {
   "cell_type": "code",
   "execution_count": 31,
   "id": "1241c249-a10b-4bb8-8527-ad85581524ac",
   "metadata": {
    "tags": []
   },
   "outputs": [
    {
     "name": "stdout",
     "output_type": "stream",
     "text": [
      "Train on 16200 samples, validate on 4500 samples\n",
      "16200/16200 [==============================] - 1s 45us/sample - loss: 0.5432 - val_loss: 0.3859\n",
      "Train on 16200 samples, validate on 4500 samples\n",
      "16200/16200 [==============================] - 1s 39us/sample - loss: 0.0060 - val_loss: 0.0056\n",
      "Train on 16200 samples, validate on 4500 samples\n",
      "16200/16200 [==============================] - 1s 38us/sample - loss: 0.6024 - val_loss: 0.4170\n",
      "Train on 16200 samples, validate on 4500 samples\n",
      "16200/16200 [==============================] - 1s 39us/sample - loss: 0.8966 - val_loss: 0.6315\n",
      "Train on 16200 samples, validate on 4500 samples\n",
      "16200/16200 [==============================] - 1s 43us/sample - loss: 0.8286 - val_loss: 0.5867\n",
      "Train on 16200 samples, validate on 4500 samples\n",
      "16200/16200 [==============================] - 1s 39us/sample - loss: 0.0688 - val_loss: 0.0517\n",
      "Train on 16200 samples, validate on 4500 samples\n",
      "16200/16200 [==============================] - 1s 43us/sample - loss: 0.9728 - val_loss: 0.6626\n",
      "Train on 16200 samples, validate on 4500 samples\n",
      "16200/16200 [==============================] - 1s 39us/sample - loss: 0.1174 - val_loss: 0.0767\n",
      "Train on 16200 samples, validate on 4500 samples\n",
      "16200/16200 [==============================] - 1s 41us/sample - loss: 0.1810 - val_loss: 0.1328\n",
      "Train on 16200 samples, validate on 4500 samples\n",
      "16200/16200 [==============================] - 1s 48us/sample - loss: 0.0039 - val_loss: 0.0048\n",
      "Train on 16200 samples, validate on 4500 samples\n",
      "16200/16200 [==============================] - 1s 55us/sample - loss: 0.0042 - val_loss: 0.0052\n",
      "Train on 16200 samples, validate on 4500 samples\n",
      "16200/16200 [==============================] - 1s 60us/sample - loss: 0.0042 - val_loss: 0.0048\n",
      "Train on 16200 samples, validate on 4500 samples\n",
      "16200/16200 [==============================] - 1s 54us/sample - loss: 0.0040 - val_loss: 0.0055\n",
      "Train on 16200 samples, validate on 4500 samples\n",
      "16200/16200 [==============================] - 1s 61us/sample - loss: 0.0040 - val_loss: 0.0047\n",
      "Train on 16200 samples, validate on 4500 samples\n",
      "16200/16200 [==============================] - 1s 56us/sample - loss: 0.0040 - val_loss: 0.0046\n",
      "Train on 16200 samples, validate on 4500 samples\n",
      "16200/16200 [==============================] - 1s 61us/sample - loss: 0.0038 - val_loss: 0.0047\n",
      "Train on 16200 samples, validate on 4500 samples\n",
      "16200/16200 [==============================] - 1s 56us/sample - loss: 0.0046 - val_loss: 0.0047\n",
      "Train on 16200 samples, validate on 4500 samples\n",
      "16200/16200 [==============================] - 1s 61us/sample - loss: 0.0039 - val_loss: 0.0048\n",
      "Train on 16200 samples, validate on 4500 samples\n",
      "16200/16200 [==============================] - 1s 55us/sample - loss: 0.0038 - val_loss: 0.0047\n",
      "Train on 16200 samples, validate on 4500 samples\n",
      "16200/16200 [==============================] - 1s 55us/sample - loss: 0.0040 - val_loss: 0.0046\n",
      "Train on 16200 samples, validate on 4500 samples\n",
      "16200/16200 [==============================] - 1s 55us/sample - loss: 0.0038 - val_loss: 0.0047\n",
      "Train on 16200 samples, validate on 4500 samples\n",
      "16200/16200 [==============================] - 1s 56us/sample - loss: 0.0041 - val_loss: 0.0047\n",
      "Train on 16200 samples, validate on 4500 samples\n",
      "16200/16200 [==============================] - 1s 62us/sample - loss: 0.0038 - val_loss: 0.0048\n",
      "Train on 16200 samples, validate on 4500 samples\n",
      "16200/16200 [==============================] - 1s 54us/sample - loss: 0.0040 - val_loss: 0.0050\n",
      "Train on 16200 samples, validate on 4500 samples\n",
      "16200/16200 [==============================] - 1s 56us/sample - loss: 0.0039 - val_loss: 0.0046\n",
      "Train on 16200 samples, validate on 4500 samples\n",
      "16200/16200 [==============================] - 1s 56us/sample - loss: 0.0038 - val_loss: 0.0046\n",
      "Train on 16200 samples, validate on 4500 samples\n",
      "16200/16200 [==============================] - 1s 56us/sample - loss: 0.0039 - val_loss: 0.0047\n",
      "Train on 16200 samples, validate on 4500 samples\n",
      "16200/16200 [==============================] - 1s 63us/sample - loss: 0.0038 - val_loss: 0.0047\n",
      "Train on 16200 samples, validate on 4500 samples\n",
      "16200/16200 [==============================] - 1s 55us/sample - loss: 0.0039 - val_loss: 0.0049\n",
      "Train on 16200 samples, validate on 4500 samples\n",
      "16200/16200 [==============================] - 1s 59us/sample - loss: 0.0039 - val_loss: 0.0046\n",
      "Train on 18000 samples, validate on 4500 samples\n",
      "18000/18000 [==============================] - 1s 36us/sample - loss: 0.2012 - val_loss: 0.1257\n"
     ]
    }
   ],
   "source": [
    "model_search = RandomizedSearchCV(estimator=wrapper.ModelClass,\n",
    "                                  param_distributions=wrapper.param_grid,\n",
    "                                  n_iter=N_ITER,\n",
    "                                  cv=cv_splits,\n",
    "                                  verbose=0,\n",
    "                                  n_jobs=N_JOBS,\n",
    "                                  scoring=mse_scorer,\n",
    "                                  random_state=SEED) \n",
    "\n",
    "opt_model_search = model_search.fit(X_train_zscore,\n",
    "                                    y_train,\n",
    "                                    validation_data=(X_validation_zscore, y_validation))"
   ]
  },
  {
   "cell_type": "code",
   "execution_count": 34,
   "id": "66960245-24de-4829-9b1f-3fd35622442b",
   "metadata": {},
   "outputs": [
    {
     "data": {
      "text/plain": [
       "{'y_pred': array([-0.0359428 ,  0.11418074,  0.10875963, ...,  0.10243759,\n",
       "         0.12839253, -0.87726617], dtype=float32),\n",
       " 'mse': 0.08487640237325712}"
      ]
     },
     "execution_count": 34,
     "metadata": {},
     "output_type": "execute_result"
    }
   ],
   "source": [
    "y_pred2 = opt_model_search.best_estimator_.predict(X_test_zscore)\n",
    "mse2 = mean_squared_error(y_true=y_test, \n",
    "                         y_pred=y_pred2)\n",
    "\n",
    "results2 = {\"y_pred\": y_pred2,\n",
    "            \"mse\": mse2}\n",
    "results2"
   ]
  },
  {
   "cell_type": "code",
   "execution_count": null,
   "id": "76d28378-3a1f-4c81-8f45-1fb100958708",
   "metadata": {},
   "outputs": [],
   "source": []
  }
 ],
 "metadata": {
  "kernelspec": {
   "display_name": "Python 3",
   "language": "python",
   "name": "python3"
  },
  "language_info": {
   "codemirror_mode": {
    "name": "ipython",
    "version": 3
   },
   "file_extension": ".py",
   "mimetype": "text/x-python",
   "name": "python",
   "nbconvert_exporter": "python",
   "pygments_lexer": "ipython3",
   "version": "3.6.13"
  }
 },
 "nbformat": 4,
 "nbformat_minor": 5
}
