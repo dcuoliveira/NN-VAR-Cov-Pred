{
 "cells": [
  {
   "cell_type": "code",
   "execution_count": 7,
   "id": "0b679484-253c-456f-9eb0-39fa57d3a57f",
   "metadata": {},
   "outputs": [],
   "source": [
    "import os\n",
    "import pandas as pd\n",
    "\n",
    "from keras.models import Sequential\n",
    "from keras.layers import Dense\n",
    "from keras.wrappers.scikit_learn import KerasRegressor\n",
    "from sklearn.model_selection import cross_val_score\n",
    "from sklearn.model_selection import KFold"
   ]
  },
  {
   "cell_type": "code",
   "execution_count": 8,
   "id": "fd0527b7-45b3-4938-a959-f1263532bce4",
   "metadata": {},
   "outputs": [],
   "source": [
    "OUTPUT_PATH = os.path.join(os.getcwd(), \"data\", \"inputs\")\n",
    "PATHS = [pathname for pathname in os.listdir(OUTPUT_PATH) if os.path.isdir(os.path.join(OUTPUT_PATH, pathname))]\n",
    "DATASET_TYPES = [\"betadgp_covdgp_data\", \"betadgp_beta2x2_data\", \"betadgp_data\"]\n",
    "y_name = \"betas_dgp\""
   ]
  },
  {
   "cell_type": "code",
   "execution_count": 9,
   "id": "b3a788e6-3b99-42f6-94a1-0c2d82d8bc3e",
   "metadata": {},
   "outputs": [
    {
     "data": {
      "text/html": [
       "<div>\n",
       "<style scoped>\n",
       "    .dataframe tbody tr th:only-of-type {\n",
       "        vertical-align: middle;\n",
       "    }\n",
       "\n",
       "    .dataframe tbody tr th {\n",
       "        vertical-align: top;\n",
       "    }\n",
       "\n",
       "    .dataframe thead th {\n",
       "        text-align: right;\n",
       "    }\n",
       "</style>\n",
       "<table border=\"1\" class=\"dataframe\">\n",
       "  <thead>\n",
       "    <tr style=\"text-align: right;\">\n",
       "      <th></th>\n",
       "      <th>Var1</th>\n",
       "      <th>Var2</th>\n",
       "      <th>betas_dgp</th>\n",
       "      <th>cov_dgp</th>\n",
       "    </tr>\n",
       "  </thead>\n",
       "  <tbody>\n",
       "    <tr>\n",
       "      <th>0</th>\n",
       "      <td>1</td>\n",
       "      <td>1</td>\n",
       "      <td>0.0</td>\n",
       "      <td>1.000000</td>\n",
       "    </tr>\n",
       "    <tr>\n",
       "      <th>1</th>\n",
       "      <td>1</td>\n",
       "      <td>2</td>\n",
       "      <td>0.0</td>\n",
       "      <td>-0.082149</td>\n",
       "    </tr>\n",
       "    <tr>\n",
       "      <th>2</th>\n",
       "      <td>1</td>\n",
       "      <td>3</td>\n",
       "      <td>0.0</td>\n",
       "      <td>-0.002405</td>\n",
       "    </tr>\n",
       "    <tr>\n",
       "      <th>3</th>\n",
       "      <td>1</td>\n",
       "      <td>4</td>\n",
       "      <td>0.0</td>\n",
       "      <td>-0.013750</td>\n",
       "    </tr>\n",
       "    <tr>\n",
       "      <th>4</th>\n",
       "      <td>1</td>\n",
       "      <td>5</td>\n",
       "      <td>0.0</td>\n",
       "      <td>0.046244</td>\n",
       "    </tr>\n",
       "  </tbody>\n",
       "</table>\n",
       "</div>"
      ],
      "text/plain": [
       "   Var1  Var2  betas_dgp   cov_dgp\n",
       "0     1     1        0.0  1.000000\n",
       "1     1     2        0.0 -0.082149\n",
       "2     1     3        0.0 -0.002405\n",
       "3     1     4        0.0 -0.013750\n",
       "4     1     5        0.0  0.046244"
      ]
     },
     "execution_count": 9,
     "metadata": {},
     "output_type": "execute_result"
    }
   ],
   "source": [
    "p = PATHS[0]\n",
    "d = DATASET_TYPES[0]\n",
    "\n",
    "tmp_data = pd.read_csv(os.path.join(OUTPUT_PATH, p, d + \".csv\"))\n",
    "tmp_data.head()"
   ]
  },
  {
   "cell_type": "code",
   "execution_count": 10,
   "id": "9eb86af5-65ed-410e-9f8c-e3cb34d30613",
   "metadata": {},
   "outputs": [],
   "source": [
    "y = tmp_data[y_name]\n",
    "X = tmp_data.drop([y_name, \"Var1\", \"Var2\"], axis=1)"
   ]
  },
  {
   "cell_type": "markdown",
   "id": "a4e9ee80-9f39-4991-945b-706820d7bbb8",
   "metadata": {},
   "source": [
    "## 1. Baseline neural network model"
   ]
  },
  {
   "cell_type": "code",
   "execution_count": 11,
   "id": "3a8cd6a1-9d9a-40c7-bb99-4c5904b62915",
   "metadata": {},
   "outputs": [
    {
     "name": "stdout",
     "output_type": "stream",
     "text": [
      "Baseline: -0.00 (0.00) MSE\n"
     ]
    }
   ],
   "source": [
    "def baseline_model():\n",
    "    model = Sequential()\n",
    "    model.add(Dense(5,\n",
    "                    input_dim=X.shape[1],\n",
    "                    kernel_initializer='normal',\n",
    "                    activation='relu'))\n",
    "    model.add(Dense(1,\n",
    "                    kernel_initializer='normal'))\n",
    "    model.compile(loss='mean_squared_error', optimizer='adam')\n",
    "\n",
    "    return model\n",
    "\n",
    "# cross-validation\n",
    "estimator = KerasRegressor(build_fn=baseline_model,\n",
    "                           epochs=100,\n",
    "                           batch_size=100,\n",
    "                           verbose=0)\n",
    "kfold = KFold(n_splits=10)\n",
    "results = cross_val_score(estimator,\n",
    "                          X,\n",
    "                          y,\n",
    "                          cv=kfold)\n",
    "print(\"Baseline: %.2f (%.2f) MSE\" % (results.mean(), results.std()))"
   ]
  },
  {
   "cell_type": "code",
   "execution_count": null,
   "id": "a119d598-5589-47f9-97f4-e457dc691cef",
   "metadata": {},
   "outputs": [],
   "source": []
  }
 ],
 "metadata": {
  "kernelspec": {
   "display_name": "Python 3",
   "language": "python",
   "name": "python3"
  },
  "language_info": {
   "codemirror_mode": {
    "name": "ipython",
    "version": 3
   },
   "file_extension": ".py",
   "mimetype": "text/x-python",
   "name": "python",
   "nbconvert_exporter": "python",
   "pygments_lexer": "ipython3",
   "version": "3.6.10"
  }
 },
 "nbformat": 4,
 "nbformat_minor": 5
}
